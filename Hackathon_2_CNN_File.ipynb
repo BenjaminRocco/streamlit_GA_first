{
  "nbformat": 4,
  "nbformat_minor": 0,
  "metadata": {
    "colab": {
      "provenance": [],
      "gpuType": "T4"
    },
    "kernelspec": {
      "name": "python3",
      "display_name": "Python 3"
    },
    "language_info": {
      "name": "python"
    },
    "accelerator": "GPU"
  },
  "cells": [
    {
      "cell_type": "markdown",
      "source": [
        "#### Imports"
      ],
      "metadata": {
        "id": "a5gevSteQmH6"
      }
    },
    {
      "cell_type": "code",
      "source": [
        "!pip install scikeras[tensorflow]"
      ],
      "metadata": {
        "colab": {
          "base_uri": "https://localhost:8080/"
        },
        "id": "WcKW25DUu0xc",
        "outputId": "c659d435-aa92-4b7f-eb99-d2908423a520"
      },
      "execution_count": null,
      "outputs": [
        {
          "output_type": "stream",
          "name": "stdout",
          "text": [
            "Collecting scikeras[tensorflow]\n",
            "  Downloading scikeras-0.12.0-py3-none-any.whl (27 kB)\n",
            "Requirement already satisfied: packaging>=0.21 in /usr/local/lib/python3.10/dist-packages (from scikeras[tensorflow]) (23.2)\n",
            "Requirement already satisfied: scikit-learn>=1.0.0 in /usr/local/lib/python3.10/dist-packages (from scikeras[tensorflow]) (1.2.2)\n",
            "Collecting tensorflow<2.13.0,>=2.12.0 (from scikeras[tensorflow])\n",
            "  Downloading tensorflow-2.12.1-cp310-cp310-manylinux_2_17_x86_64.manylinux2014_x86_64.whl (585.9 MB)\n",
            "\u001b[2K     \u001b[90m━━━━━━━━━━━━━━━━━━━━━━━━━━━━━━━━━━━━━━━━\u001b[0m \u001b[32m585.9/585.9 MB\u001b[0m \u001b[31m2.1 MB/s\u001b[0m eta \u001b[36m0:00:00\u001b[0m\n",
            "\u001b[?25hRequirement already satisfied: numpy>=1.17.3 in /usr/local/lib/python3.10/dist-packages (from scikit-learn>=1.0.0->scikeras[tensorflow]) (1.23.5)\n",
            "Requirement already satisfied: scipy>=1.3.2 in /usr/local/lib/python3.10/dist-packages (from scikit-learn>=1.0.0->scikeras[tensorflow]) (1.11.4)\n",
            "Requirement already satisfied: joblib>=1.1.1 in /usr/local/lib/python3.10/dist-packages (from scikit-learn>=1.0.0->scikeras[tensorflow]) (1.3.2)\n",
            "Requirement already satisfied: threadpoolctl>=2.0.0 in /usr/local/lib/python3.10/dist-packages (from scikit-learn>=1.0.0->scikeras[tensorflow]) (3.2.0)\n",
            "Requirement already satisfied: absl-py>=1.0.0 in /usr/local/lib/python3.10/dist-packages (from tensorflow<2.13.0,>=2.12.0->scikeras[tensorflow]) (1.4.0)\n",
            "Requirement already satisfied: astunparse>=1.6.0 in /usr/local/lib/python3.10/dist-packages (from tensorflow<2.13.0,>=2.12.0->scikeras[tensorflow]) (1.6.3)\n",
            "Requirement already satisfied: flatbuffers>=2.0 in /usr/local/lib/python3.10/dist-packages (from tensorflow<2.13.0,>=2.12.0->scikeras[tensorflow]) (23.5.26)\n",
            "Collecting gast<=0.4.0,>=0.2.1 (from tensorflow<2.13.0,>=2.12.0->scikeras[tensorflow])\n",
            "  Downloading gast-0.4.0-py3-none-any.whl (9.8 kB)\n",
            "Requirement already satisfied: google-pasta>=0.1.1 in /usr/local/lib/python3.10/dist-packages (from tensorflow<2.13.0,>=2.12.0->scikeras[tensorflow]) (0.2.0)\n",
            "Requirement already satisfied: grpcio<2.0,>=1.24.3 in /usr/local/lib/python3.10/dist-packages (from tensorflow<2.13.0,>=2.12.0->scikeras[tensorflow]) (1.60.1)\n",
            "Requirement already satisfied: h5py>=2.9.0 in /usr/local/lib/python3.10/dist-packages (from tensorflow<2.13.0,>=2.12.0->scikeras[tensorflow]) (3.9.0)\n",
            "Requirement already satisfied: jax>=0.3.15 in /usr/local/lib/python3.10/dist-packages (from tensorflow<2.13.0,>=2.12.0->scikeras[tensorflow]) (0.4.23)\n",
            "Collecting keras<2.13,>=2.12.0 (from tensorflow<2.13.0,>=2.12.0->scikeras[tensorflow])\n",
            "  Downloading keras-2.12.0-py2.py3-none-any.whl (1.7 MB)\n",
            "\u001b[2K     \u001b[90m━━━━━━━━━━━━━━━━━━━━━━━━━━━━━━━━━━━━━━━━\u001b[0m \u001b[32m1.7/1.7 MB\u001b[0m \u001b[31m95.2 MB/s\u001b[0m eta \u001b[36m0:00:00\u001b[0m\n",
            "\u001b[?25hRequirement already satisfied: libclang>=13.0.0 in /usr/local/lib/python3.10/dist-packages (from tensorflow<2.13.0,>=2.12.0->scikeras[tensorflow]) (16.0.6)\n",
            "Requirement already satisfied: opt-einsum>=2.3.2 in /usr/local/lib/python3.10/dist-packages (from tensorflow<2.13.0,>=2.12.0->scikeras[tensorflow]) (3.3.0)\n",
            "Requirement already satisfied: protobuf!=4.21.0,!=4.21.1,!=4.21.2,!=4.21.3,!=4.21.4,!=4.21.5,<5.0.0dev,>=3.20.3 in /usr/local/lib/python3.10/dist-packages (from tensorflow<2.13.0,>=2.12.0->scikeras[tensorflow]) (3.20.3)\n",
            "Requirement already satisfied: setuptools in /usr/local/lib/python3.10/dist-packages (from tensorflow<2.13.0,>=2.12.0->scikeras[tensorflow]) (67.7.2)\n",
            "Requirement already satisfied: six>=1.12.0 in /usr/local/lib/python3.10/dist-packages (from tensorflow<2.13.0,>=2.12.0->scikeras[tensorflow]) (1.16.0)\n",
            "Collecting tensorboard<2.13,>=2.12 (from tensorflow<2.13.0,>=2.12.0->scikeras[tensorflow])\n",
            "  Downloading tensorboard-2.12.3-py3-none-any.whl (5.6 MB)\n",
            "\u001b[2K     \u001b[90m━━━━━━━━━━━━━━━━━━━━━━━━━━━━━━━━━━━━━━━━\u001b[0m \u001b[32m5.6/5.6 MB\u001b[0m \u001b[31m117.9 MB/s\u001b[0m eta \u001b[36m0:00:00\u001b[0m\n",
            "\u001b[?25hCollecting tensorflow-estimator<2.13,>=2.12.0 (from tensorflow<2.13.0,>=2.12.0->scikeras[tensorflow])\n",
            "  Downloading tensorflow_estimator-2.12.0-py2.py3-none-any.whl (440 kB)\n",
            "\u001b[2K     \u001b[90m━━━━━━━━━━━━━━━━━━━━━━━━━━━━━━━━━━━━━━━━\u001b[0m \u001b[32m440.7/440.7 kB\u001b[0m \u001b[31m53.0 MB/s\u001b[0m eta \u001b[36m0:00:00\u001b[0m\n",
            "\u001b[?25hRequirement already satisfied: termcolor>=1.1.0 in /usr/local/lib/python3.10/dist-packages (from tensorflow<2.13.0,>=2.12.0->scikeras[tensorflow]) (2.4.0)\n",
            "Collecting typing-extensions<4.6.0,>=3.6.6 (from tensorflow<2.13.0,>=2.12.0->scikeras[tensorflow])\n",
            "  Downloading typing_extensions-4.5.0-py3-none-any.whl (27 kB)\n",
            "Requirement already satisfied: wrapt<1.15,>=1.11.0 in /usr/local/lib/python3.10/dist-packages (from tensorflow<2.13.0,>=2.12.0->scikeras[tensorflow]) (1.14.1)\n",
            "Requirement already satisfied: tensorflow-io-gcs-filesystem>=0.23.1 in /usr/local/lib/python3.10/dist-packages (from tensorflow<2.13.0,>=2.12.0->scikeras[tensorflow]) (0.36.0)\n",
            "Requirement already satisfied: wheel<1.0,>=0.23.0 in /usr/local/lib/python3.10/dist-packages (from astunparse>=1.6.0->tensorflow<2.13.0,>=2.12.0->scikeras[tensorflow]) (0.42.0)\n",
            "Requirement already satisfied: ml-dtypes>=0.2.0 in /usr/local/lib/python3.10/dist-packages (from jax>=0.3.15->tensorflow<2.13.0,>=2.12.0->scikeras[tensorflow]) (0.2.0)\n",
            "Requirement already satisfied: google-auth<3,>=1.6.3 in /usr/local/lib/python3.10/dist-packages (from tensorboard<2.13,>=2.12->tensorflow<2.13.0,>=2.12.0->scikeras[tensorflow]) (2.17.3)\n",
            "Collecting google-auth-oauthlib<1.1,>=0.5 (from tensorboard<2.13,>=2.12->tensorflow<2.13.0,>=2.12.0->scikeras[tensorflow])\n",
            "  Downloading google_auth_oauthlib-1.0.0-py2.py3-none-any.whl (18 kB)\n",
            "Requirement already satisfied: markdown>=2.6.8 in /usr/local/lib/python3.10/dist-packages (from tensorboard<2.13,>=2.12->tensorflow<2.13.0,>=2.12.0->scikeras[tensorflow]) (3.5.2)\n",
            "Requirement already satisfied: requests<3,>=2.21.0 in /usr/local/lib/python3.10/dist-packages (from tensorboard<2.13,>=2.12->tensorflow<2.13.0,>=2.12.0->scikeras[tensorflow]) (2.31.0)\n",
            "Requirement already satisfied: tensorboard-data-server<0.8.0,>=0.7.0 in /usr/local/lib/python3.10/dist-packages (from tensorboard<2.13,>=2.12->tensorflow<2.13.0,>=2.12.0->scikeras[tensorflow]) (0.7.2)\n",
            "Requirement already satisfied: werkzeug>=1.0.1 in /usr/local/lib/python3.10/dist-packages (from tensorboard<2.13,>=2.12->tensorflow<2.13.0,>=2.12.0->scikeras[tensorflow]) (3.0.1)\n",
            "Requirement already satisfied: cachetools<6.0,>=2.0.0 in /usr/local/lib/python3.10/dist-packages (from google-auth<3,>=1.6.3->tensorboard<2.13,>=2.12->tensorflow<2.13.0,>=2.12.0->scikeras[tensorflow]) (5.3.2)\n",
            "Requirement already satisfied: pyasn1-modules>=0.2.1 in /usr/local/lib/python3.10/dist-packages (from google-auth<3,>=1.6.3->tensorboard<2.13,>=2.12->tensorflow<2.13.0,>=2.12.0->scikeras[tensorflow]) (0.3.0)\n",
            "Requirement already satisfied: rsa<5,>=3.1.4 in /usr/local/lib/python3.10/dist-packages (from google-auth<3,>=1.6.3->tensorboard<2.13,>=2.12->tensorflow<2.13.0,>=2.12.0->scikeras[tensorflow]) (4.9)\n",
            "Requirement already satisfied: requests-oauthlib>=0.7.0 in /usr/local/lib/python3.10/dist-packages (from google-auth-oauthlib<1.1,>=0.5->tensorboard<2.13,>=2.12->tensorflow<2.13.0,>=2.12.0->scikeras[tensorflow]) (1.3.1)\n",
            "Requirement already satisfied: charset-normalizer<4,>=2 in /usr/local/lib/python3.10/dist-packages (from requests<3,>=2.21.0->tensorboard<2.13,>=2.12->tensorflow<2.13.0,>=2.12.0->scikeras[tensorflow]) (3.3.2)\n",
            "Requirement already satisfied: idna<4,>=2.5 in /usr/local/lib/python3.10/dist-packages (from requests<3,>=2.21.0->tensorboard<2.13,>=2.12->tensorflow<2.13.0,>=2.12.0->scikeras[tensorflow]) (3.6)\n",
            "Requirement already satisfied: urllib3<3,>=1.21.1 in /usr/local/lib/python3.10/dist-packages (from requests<3,>=2.21.0->tensorboard<2.13,>=2.12->tensorflow<2.13.0,>=2.12.0->scikeras[tensorflow]) (2.0.7)\n",
            "Requirement already satisfied: certifi>=2017.4.17 in /usr/local/lib/python3.10/dist-packages (from requests<3,>=2.21.0->tensorboard<2.13,>=2.12->tensorflow<2.13.0,>=2.12.0->scikeras[tensorflow]) (2024.2.2)\n",
            "Requirement already satisfied: MarkupSafe>=2.1.1 in /usr/local/lib/python3.10/dist-packages (from werkzeug>=1.0.1->tensorboard<2.13,>=2.12->tensorflow<2.13.0,>=2.12.0->scikeras[tensorflow]) (2.1.5)\n",
            "Requirement already satisfied: pyasn1<0.6.0,>=0.4.6 in /usr/local/lib/python3.10/dist-packages (from pyasn1-modules>=0.2.1->google-auth<3,>=1.6.3->tensorboard<2.13,>=2.12->tensorflow<2.13.0,>=2.12.0->scikeras[tensorflow]) (0.5.1)\n",
            "Requirement already satisfied: oauthlib>=3.0.0 in /usr/local/lib/python3.10/dist-packages (from requests-oauthlib>=0.7.0->google-auth-oauthlib<1.1,>=0.5->tensorboard<2.13,>=2.12->tensorflow<2.13.0,>=2.12.0->scikeras[tensorflow]) (3.2.2)\n",
            "Installing collected packages: typing-extensions, tensorflow-estimator, keras, gast, scikeras, google-auth-oauthlib, tensorboard, tensorflow\n",
            "  Attempting uninstall: typing-extensions\n",
            "    Found existing installation: typing_extensions 4.9.0\n",
            "    Uninstalling typing_extensions-4.9.0:\n",
            "      Successfully uninstalled typing_extensions-4.9.0\n",
            "  Attempting uninstall: tensorflow-estimator\n",
            "    Found existing installation: tensorflow-estimator 2.15.0\n",
            "    Uninstalling tensorflow-estimator-2.15.0:\n",
            "      Successfully uninstalled tensorflow-estimator-2.15.0\n",
            "  Attempting uninstall: keras\n",
            "    Found existing installation: keras 2.15.0\n",
            "    Uninstalling keras-2.15.0:\n",
            "      Successfully uninstalled keras-2.15.0\n",
            "  Attempting uninstall: gast\n",
            "    Found existing installation: gast 0.5.4\n",
            "    Uninstalling gast-0.5.4:\n",
            "      Successfully uninstalled gast-0.5.4\n",
            "  Attempting uninstall: google-auth-oauthlib\n",
            "    Found existing installation: google-auth-oauthlib 1.2.0\n",
            "    Uninstalling google-auth-oauthlib-1.2.0:\n",
            "      Successfully uninstalled google-auth-oauthlib-1.2.0\n",
            "  Attempting uninstall: tensorboard\n",
            "    Found existing installation: tensorboard 2.15.1\n",
            "    Uninstalling tensorboard-2.15.1:\n",
            "      Successfully uninstalled tensorboard-2.15.1\n",
            "  Attempting uninstall: tensorflow\n",
            "    Found existing installation: tensorflow 2.15.0\n",
            "    Uninstalling tensorflow-2.15.0:\n",
            "      Successfully uninstalled tensorflow-2.15.0\n",
            "\u001b[31mERROR: pip's dependency resolver does not currently take into account all the packages that are installed. This behaviour is the source of the following dependency conflicts.\n",
            "sqlalchemy 2.0.25 requires typing-extensions>=4.6.0, but you have typing-extensions 4.5.0 which is incompatible.\n",
            "pydantic 2.6.1 requires typing-extensions>=4.6.1, but you have typing-extensions 4.5.0 which is incompatible.\n",
            "pydantic-core 2.16.2 requires typing-extensions!=4.7.0,>=4.6.0, but you have typing-extensions 4.5.0 which is incompatible.\u001b[0m\u001b[31m\n",
            "\u001b[0mSuccessfully installed gast-0.4.0 google-auth-oauthlib-1.0.0 keras-2.12.0 scikeras-0.12.0 tensorboard-2.12.3 tensorflow-2.12.1 tensorflow-estimator-2.12.0 typing-extensions-4.5.0\n"
          ]
        }
      ]
    },
    {
      "cell_type": "code",
      "source": [
        "import matplotlib.pyplot as plt\n",
        "import numpy as np\n",
        "from tensorflow import keras\n",
        "import tensorflow as tf\n",
        "from PIL import Image\n",
        "import glob\n",
        "import random\n",
        "import pandas as pd\n",
        "\n",
        "from tensorflow.keras.layers import Dense, Dropout, Flatten, Conv2D, MaxPooling2D, Input, AveragePooling2D\n",
        "from tensorflow.keras.models import Sequential\n",
        "from tensorflow.keras import layers\n",
        "from tensorflow.keras.regularizers import l2\n",
        "from tensorflow.keras.callbacks import EarlyStopping\n",
        "\n",
        "from sklearn.model_selection import train_test_split, GridSearchCV\n",
        "from scikeras.wrappers import KerasClassifier"
      ],
      "metadata": {
        "id": "vfhsdaFMu14n"
      },
      "execution_count": null,
      "outputs": []
    },
    {
      "cell_type": "markdown",
      "source": [
        "#### Import the Data"
      ],
      "metadata": {
        "id": "kPGVyw-PQqRG"
      }
    },
    {
      "cell_type": "code",
      "source": [
        "!unzip -q /content/hotdog-nothotdog.zip"
      ],
      "metadata": {
        "id": "qio-cNORRpHf",
        "colab": {
          "base_uri": "https://localhost:8080/"
        },
        "outputId": "dfc38bcc-7193-4388-98b4-4798aec3ee2f"
      },
      "execution_count": null,
      "outputs": [
        {
          "output_type": "stream",
          "name": "stdout",
          "text": [
            "replace __MACOSX/._hotdog-nothotdog? [y]es, [n]o, [A]ll, [N]one, [r]ename: y\n",
            "replace hotdog-nothotdog/.DS_Store? [y]es, [n]o, [A]ll, [N]one, [r]ename: y\n",
            "replace __MACOSX/hotdog-nothotdog/._.DS_Store? [y]es, [n]o, [A]ll, [N]one, [r]ename: y\n",
            "replace __MACOSX/hotdog-nothotdog/._test? [y]es, [n]o, [A]ll, [N]one, [r]ename: y\n",
            "replace __MACOSX/hotdog-nothotdog/._train? [y]es, [n]o, [A]ll, [N]one, [r]ename: y\n",
            "replace __MACOSX/hotdog-nothotdog/test/._nothotdog? [y]es, [n]o, [A]ll, [N]one, [r]ename: y\n",
            "replace __MACOSX/hotdog-nothotdog/test/._hotdog? [y]es, [n]o, [A]ll, [N]one, [r]ename: A\n"
          ]
        }
      ]
    },
    {
      "cell_type": "code",
      "source": [
        "# Image generator step comes here\n",
        "from tensorflow.keras.preprocessing.image import ImageDataGenerator\n"
      ],
      "metadata": {
        "id": "3Ru0wUPsaYot"
      },
      "execution_count": null,
      "outputs": []
    },
    {
      "cell_type": "code",
      "source": [
        "files=glob.glob(\"/content/hotdog-nothotdog/train/hotdog/*.jpg\")\n",
        "TrainData = []\n",
        "index = 0\n",
        "\n",
        "for file in files:\n",
        "    img = Image.open(file)\n",
        "    img = img.resize((128, 128))\n",
        "    imgarray = np.asarray(img)\n",
        "    TrainData.append((imgarray,1))\n",
        "\n",
        "files=glob.glob(\"/content/hotdog-nothotdog/train/nothotdog/*.jpg\")\n",
        "index = 0\n",
        "for file in files:\n",
        "    img = Image.open(file)\n",
        "    img = img.resize((128, 128))\n",
        "    imgarray = np.asarray(img)\n",
        "    TrainData.append((imgarray,0))\n",
        "\n",
        "print(\"Done.\")\n",
        "\n",
        "random.shuffle(TrainData)"
      ],
      "metadata": {
        "colab": {
          "base_uri": "https://localhost:8080/"
        },
        "id": "LFNCVtm-QlA6",
        "outputId": "163e11ce-d1c6-4d5c-9d4a-60cf212dda6d"
      },
      "execution_count": null,
      "outputs": [
        {
          "output_type": "stream",
          "name": "stdout",
          "text": [
            "Done.\n"
          ]
        }
      ]
    },
    {
      "cell_type": "code",
      "source": [
        "files=glob.glob(\"/content/hotdog-nothotdog/test/hotdog/*.jpg\")\n",
        "TestData = []\n",
        "index = 0\n",
        "\n",
        "for file in files:\n",
        "    img = Image.open(file)\n",
        "    img = img.resize((128, 128))\n",
        "    imgarray = np.asarray(img)\n",
        "    TestData.append((imgarray,1))\n",
        "\n",
        "files=glob.glob(\"/content/hotdog-nothotdog/test/nothotdog/*.jpg\")\n",
        "index = 0\n",
        "for file in files:\n",
        "    img = Image.open(file)\n",
        "    img = img.resize((128, 128))\n",
        "    imgarray = np.asarray(img)\n",
        "    TestData.append((imgarray,0))\n",
        "\n",
        "print(\"Done.\")\n",
        "\n",
        "random.shuffle(TestData)"
      ],
      "metadata": {
        "colab": {
          "base_uri": "https://localhost:8080/"
        },
        "id": "jJ7JEcnuQlDk",
        "outputId": "692b9f18-728b-4825-8ae3-3f909cb3b684"
      },
      "execution_count": null,
      "outputs": [
        {
          "output_type": "stream",
          "name": "stdout",
          "text": [
            "Done.\n"
          ]
        }
      ]
    },
    {
      "cell_type": "markdown",
      "source": [
        "#### Check Dimensions of the Data"
      ],
      "metadata": {
        "id": "3xIWrmj8Qx_C"
      }
    },
    {
      "cell_type": "code",
      "source": [
        "print(\"TrainData \",len(TrainData))\n",
        "print(\"TestData \",len(TestData))"
      ],
      "metadata": {
        "colab": {
          "base_uri": "https://localhost:8080/"
        },
        "id": "Ol3XEIhhQwNq",
        "outputId": "a50a6da4-0839-46e4-b2a4-2bd7118a6d43"
      },
      "execution_count": null,
      "outputs": [
        {
          "output_type": "stream",
          "name": "stdout",
          "text": [
            "TrainData  3000\n",
            "TestData  644\n"
          ]
        }
      ]
    },
    {
      "cell_type": "markdown",
      "source": [
        "#### Modeling"
      ],
      "metadata": {
        "id": "E0SJI5DHTKvN"
      }
    },
    {
      "cell_type": "markdown",
      "source": [
        "Train-Test-Split\n"
      ],
      "metadata": {
        "id": "3X-9aj8LUcuD"
      }
    },
    {
      "cell_type": "code",
      "source": [
        "X_train = np.array([item[0] for item in TrainData])\n",
        "y_train = np.array([item[1] for item in TrainData])\n",
        "\n",
        "X_test = np.array([item[0] for item in TestData])\n",
        "y_test = np.array([item[1] for item in TestData])\n",
        "\n",
        "X_train = X_train.astype('float32')\n",
        "X_test = X_test.astype('float32')\n",
        "\n",
        "X_train /= 255\n",
        "X_test /= 255"
      ],
      "metadata": {
        "id": "S6Ug7cRUUb0E"
      },
      "execution_count": null,
      "outputs": []
    },
    {
      "cell_type": "markdown",
      "source": [
        "#### Convolutional Neural Network"
      ],
      "metadata": {
        "id": "O4wnIYHhZOCL"
      }
    },
    {
      "cell_type": "code",
      "source": [
        "model = keras.Sequential([\n",
        "    keras.layers.AveragePooling2D((2,2),2,input_shape=(128,128,3)),\n",
        "    keras.layers.Conv2D(16,(3,3),activation='relu'),\n",
        "    keras.layers.MaxPool2D(),\n",
        "    keras.layers.Dropout(0.2),\n",
        "    keras.layers.Conv2D(32,(3,3),activation='relu'),\n",
        "    keras.layers.MaxPool2D(),\n",
        "    keras.layers.Dropout(0.2),\n",
        "    keras.layers.Conv2D(64,(3,3),activation='relu'),\n",
        "    keras.layers.MaxPool2D(),\n",
        "    keras.layers.Dropout(0.2),\n",
        "    keras.layers.Conv2D(128,(3,3),activation='relu'),\n",
        "    keras.layers.MaxPool2D(),\n",
        "    keras.layers.Dropout(0.2),\n",
        "    keras.layers.Flatten(),\n",
        "    keras.layers.Dense(128,activation='relu'),\n",
        "    keras.layers.Dropout(0.5),\n",
        "    keras.layers.Dense(1,activation='sigmoid')\n",
        "])\n",
        "\n",
        "model.compile(optimizer ='adam',loss='binary_crossentropy',metrics=['accuracy'])\n",
        "\n",
        "early_stop = EarlyStopping(\n",
        "  monitor='val_loss',\n",
        "  patience=5,\n",
        "  verbose=1,\n",
        "  restore_best_weights=True\n",
        ")\n",
        "\n",
        "history = model.fit(X_train, y_train, validation_data=(X_test, y_test),\n",
        "epochs = 10, batch_size = 20,\n",
        "                    callbacks=[early_stop]\n",
        ")"
      ],
      "metadata": {
        "colab": {
          "base_uri": "https://localhost:8080/"
        },
        "id": "bIpsR4MIZNh2",
        "outputId": "c0387050-7a41-4409-e4c9-0043f4c170ed"
      },
      "execution_count": null,
      "outputs": [
        {
          "output_type": "stream",
          "name": "stdout",
          "text": [
            "Epoch 1/10\n",
            "150/150 [==============================] - 11s 64ms/step - loss: 0.6928 - accuracy: 0.5297 - val_loss: 0.6799 - val_accuracy: 0.5668\n",
            "Epoch 2/10\n",
            "150/150 [==============================] - 9s 59ms/step - loss: 0.6574 - accuracy: 0.6193 - val_loss: 0.6398 - val_accuracy: 0.6553\n",
            "Epoch 3/10\n",
            "150/150 [==============================] - 9s 59ms/step - loss: 0.6267 - accuracy: 0.6520 - val_loss: 0.6426 - val_accuracy: 0.6304\n",
            "Epoch 4/10\n",
            "150/150 [==============================] - 9s 61ms/step - loss: 0.6058 - accuracy: 0.6667 - val_loss: 0.6463 - val_accuracy: 0.6568\n",
            "Epoch 5/10\n",
            "150/150 [==============================] - 9s 60ms/step - loss: 0.5964 - accuracy: 0.6940 - val_loss: 0.5995 - val_accuracy: 0.6724\n",
            "Epoch 6/10\n",
            "150/150 [==============================] - 9s 60ms/step - loss: 0.5734 - accuracy: 0.7073 - val_loss: 0.5758 - val_accuracy: 0.6879\n",
            "Epoch 7/10\n",
            "150/150 [==============================] - 9s 57ms/step - loss: 0.5673 - accuracy: 0.7143 - val_loss: 0.5979 - val_accuracy: 0.6957\n",
            "Epoch 8/10\n",
            "150/150 [==============================] - 9s 59ms/step - loss: 0.5457 - accuracy: 0.7190 - val_loss: 0.5853 - val_accuracy: 0.7065\n",
            "Epoch 9/10\n",
            "150/150 [==============================] - 9s 60ms/step - loss: 0.5287 - accuracy: 0.7473 - val_loss: 0.5475 - val_accuracy: 0.7143\n",
            "Epoch 10/10\n",
            "150/150 [==============================] - 9s 60ms/step - loss: 0.5146 - accuracy: 0.7467 - val_loss: 0.5457 - val_accuracy: 0.7220\n"
          ]
        }
      ]
    },
    {
      "cell_type": "code",
      "source": [
        "print(history.history.keys())"
      ],
      "metadata": {
        "colab": {
          "base_uri": "https://localhost:8080/"
        },
        "id": "16x9_tulcr49",
        "outputId": "9a5b0294-d30f-4ec4-9032-f9e4010544ee"
      },
      "execution_count": null,
      "outputs": [
        {
          "output_type": "stream",
          "name": "stdout",
          "text": [
            "dict_keys(['loss', 'accuracy', 'val_loss', 'val_accuracy'])\n"
          ]
        }
      ]
    },
    {
      "cell_type": "code",
      "source": [
        "# Visualize the Acc\n",
        "train_acc = history.history['accuracy']\n",
        "test_acc = history.history['val_accuracy']\n",
        "\n",
        "plt.figure(figsize=(12, 8))\n",
        "plt.plot(train_acc, label='Training Acc', color='navy')\n",
        "plt.plot(test_acc, label='Testing Acc', color='skyblue')\n",
        "plt.legend();"
      ],
      "metadata": {
        "colab": {
          "base_uri": "https://localhost:8080/",
          "height": 676
        },
        "id": "IA3Gb7oya_Ux",
        "outputId": "60362180-e175-4cbb-ed63-e4db02971a28"
      },
      "execution_count": null,
      "outputs": [
        {
          "output_type": "display_data",
          "data": {
            "text/plain": [
              "<Figure size 1200x800 with 1 Axes>"
            ],
            "image/png": "[encoded data removed]"
          },
          "metadata": {}
        }
      ]
    },
    {
      "cell_type": "code",
      "source": [
        "# Visualize the Loss\n",
        "train_acc = history.history['loss']\n",
        "test_acc = history.history['val_loss']\n",
        "\n",
        "plt.figure(figsize=(12, 8))\n",
        "plt.plot(train_acc, label='Training Loss', color='navy')\n",
        "plt.plot(test_acc, label='Testing Loss', color='skyblue')\n",
        "plt.legend();"
      ],
      "metadata": {
        "colab": {
          "base_uri": "https://localhost:8080/",
          "height": 676
        },
        "id": "cVReKhwFeHZb",
        "outputId": "4a3bccfa-7817-4087-b63f-14ce5bc02344"
      },
      "execution_count": null,
      "outputs": [
        {
          "output_type": "display_data",
          "data": {
            "text/plain": [
              "<Figure size 1200x800 with 1 Axes>"
            ],
            "image/png": "[encoded data removed]"
          },
          "metadata": {}
        }
      ]
    },
    {
      "cell_type": "code",
      "source": [
        "#model.save(\"my_model.hdf5\")\n",
        "model.save(\"my_model.keras\")"
      ],
      "metadata": {
        "id": "Tt_QPaR7UgZA"
      },
      "execution_count": null,
      "outputs": []
    },
    {
      "cell_type": "code",
      "source": [
        "model.save(\"my_model.h5\")"
      ],
      "metadata": {
        "id": "7ytHZpFWofbK"
      },
      "execution_count": null,
      "outputs": []
    },
    {
      "cell_type": "code",
      "source": [
        "def model_func(layer_1_neurons, layer_1_drop, layer_2_neurons, layer_2_drop, layer_3_neurons, layer_3_drop, layer_4_neurons, layer_4_drop):\n",
        "\n",
        "  model = Sequential()\n",
        "  model.add(AveragePooling2D((2,2),2,input_shape=(128,128,3)))\n",
        "  #model.add(Input((128,128,3)))\n",
        "\n",
        "  model.add(Conv2D(layer_1_neurons,(3,3),activation='relu'))\n",
        "  model.add(MaxPooling2D(pool_size=(2,2)))\n",
        "  model.add(Dropout(layer_1_drop))\n",
        "\n",
        "  model.add(Conv2D(layer_2_neurons,(3,3),activation='relu'))\n",
        "  model.add(MaxPooling2D(pool_size=(2,2)))\n",
        "  model.add(Dropout(layer_2_drop))\n",
        "\n",
        "  model.add(Conv2D(layer_3_neurons,(3,3),activation='relu'))\n",
        "  model.add(MaxPooling2D(pool_size=(2,2)))\n",
        "  model.add(Dropout(layer_3_drop))\n",
        "\n",
        "  model.add(Flatten())\n",
        "  model.add(Dense(layer_4_neurons,activation='relu'))\n",
        "  model.add(Dropout((layer_4_drop)))\n",
        "  model.add(Dense(1,activation='sigmoid'))\n",
        "\n",
        "  model.compile(loss= 'binary_crossentropy', optimizer = 'adam', metrics= ['accuracy'])\n",
        "\n",
        "  early_stop = EarlyStopping(\n",
        "  monitor='val_loss',\n",
        "  patience=5,\n",
        "  verbose=1,\n",
        "  restore_best_weights=True\n",
        ")\n",
        "\n",
        "  return model"
      ],
      "metadata": {
        "id": "T7UkrJMxk-j1"
      },
      "execution_count": null,
      "outputs": []
    },
    {
      "cell_type": "code",
      "source": [
        "nn = KerasClassifier(model=model_func, batch_size=20, epochs = 20,\n",
        "                     layer_1_neurons = 32, layer_1_drop = 0.2,\n",
        "                     layer_2_neurons = 32, layer_2_drop = 0.2,\n",
        "                     layer_3_neurons = 64, layer_3_drop = 0.2,\n",
        "                     layer_4_neurons = 128, layer_4_drop = 0.2)\n",
        "\n",
        "\n"
      ],
      "metadata": {
        "id": "Y6pHplhTkKjX"
      },
      "execution_count": null,
      "outputs": []
    },
    {
      "cell_type": "code",
      "source": [
        "model = keras.Sequential([\n",
        "    keras.layers.AveragePooling2D((2,2),2,input_shape=(128,128,3)),\n",
        "    keras.layers.Conv2D(16,(3,3),activation='relu'),\n",
        "    keras.layers.MaxPool2D(),\n",
        "    keras.layers.Dropout(0.2),\n",
        "    keras.layers.Conv2D(32,(3,3),activation='relu'),\n",
        "    # keras.layers.Conv2D(32,(3,3),activation='relu'),\n",
        "    keras.layers.MaxPool2D(),\n",
        "    keras.layers.Dropout(0.2),\n",
        "    keras.layers.Conv2D(64,(3,3),activation='relu'),\n",
        "    # keras.layers.Conv2D(64,(3,3),activation='relu'),\n",
        "    keras.layers.MaxPool2D(),\n",
        "    keras.layers.Dropout(0.2),\n",
        "    keras.layers.Conv2D(128,(3,3),activation='relu'),\n",
        "    keras.layers.MaxPool2D(),\n",
        "    keras.layers.Dropout(0.2),\n",
        "    keras.layers.Flatten(),\n",
        "    keras.layers.Dense(128,activation='relu'),\n",
        "    keras.layers.Dropout(0.2),\n",
        "    keras.layers.Dense(1,activation='sigmoid')\n",
        "])\n",
        "\n",
        "model.compile(optimizer ='adam',loss='binary_crossentropy',metrics=['accuracy'])\n",
        "\n",
        "early_stop = EarlyStopping(\n",
        "  monitor='val_loss',\n",
        "  patience=5,\n",
        "  verbose=1,\n",
        "  restore_best_weights=True\n",
        ")\n",
        "\n",
        "history = model.fit(X_train, y_train, validation_data=(X_test, y_test),\n",
        "epochs = 100, batch_size = 20,\n",
        "                    callbacks=[early_stop]\n",
        ")"
      ],
      "metadata": {
        "colab": {
          "base_uri": "https://localhost:8080/"
        },
        "outputId": "9923bfad-e2c8-4b64-f5ed-c69c818838cb",
        "id": "AXLol_uSC_PP"
      },
      "execution_count": null,
      "outputs": [
        {
          "output_type": "stream",
          "name": "stdout",
          "text": [
            "Epoch 1/10\n",
            "150/150 [==============================] - 20s 123ms/step - loss: 0.6789 - accuracy: 0.5567 - val_loss: 0.6582 - val_accuracy: 0.6227\n",
            "Epoch 2/10\n",
            "150/150 [==============================] - 17s 113ms/step - loss: 0.6414 - accuracy: 0.6397 - val_loss: 0.6371 - val_accuracy: 0.6429\n",
            "Epoch 3/10\n",
            "150/150 [==============================] - 18s 119ms/step - loss: 0.6210 - accuracy: 0.6560 - val_loss: 0.6323 - val_accuracy: 0.6506\n",
            "Epoch 4/10\n",
            "150/150 [==============================] - 17s 113ms/step - loss: 0.5839 - accuracy: 0.6923 - val_loss: 0.6037 - val_accuracy: 0.6646\n",
            "Epoch 5/10\n",
            "150/150 [==============================] - 17s 115ms/step - loss: 0.5678 - accuracy: 0.7183 - val_loss: 0.5944 - val_accuracy: 0.6941\n",
            "Epoch 6/10\n",
            "150/150 [==============================] - 18s 117ms/step - loss: 0.5626 - accuracy: 0.7183 - val_loss: 0.6013 - val_accuracy: 0.7065\n",
            "Epoch 7/10\n",
            "150/150 [==============================] - 17s 114ms/step - loss: 0.5419 - accuracy: 0.7287 - val_loss: 0.5511 - val_accuracy: 0.7376\n",
            "Epoch 8/10\n",
            "150/150 [==============================] - 21s 140ms/step - loss: 0.5250 - accuracy: 0.7470 - val_loss: 0.6067 - val_accuracy: 0.6568\n",
            "Epoch 9/10\n",
            "150/150 [==============================] - 17s 113ms/step - loss: 0.5178 - accuracy: 0.7453 - val_loss: 0.5453 - val_accuracy: 0.7236\n",
            "Epoch 10/10\n",
            "150/150 [==============================] - 18s 118ms/step - loss: 0.4971 - accuracy: 0.7657 - val_loss: 0.5620 - val_accuracy: 0.7360\n"
          ]
        }
      ]
    },
    {
      "cell_type": "code",
      "source": [
        "param_grid = {\n",
        "    'layer_1_neurons': [32],\n",
        "    'layer_2_neurons': [32],\n",
        "    'layer_3_neurons': [32, 64],\n",
        "    'layer_4_neurons': [32, 64, 128],\n",
        "    'layer_1_drop': [0.2],\n",
        "    'layer_2_drop': [0.2],\n",
        "    'layer_3_drop': [0.2, 0.35],\n",
        "    'layer_4_drop': [0.2, 0.35],\n",
        "}\n",
        "\n",
        "gs = GridSearchCV(nn, param_grid = param_grid, cv=3, verbose = 1)\n",
        "\n",
        "gs.fit(X_train, y_train, validation_data=(X_test, y_test), callbacks = [early_stop])"
      ],
      "metadata": {
        "id": "wU_7kozpkKl2",
        "colab": {
          "base_uri": "https://localhost:8080/"
        },
        "outputId": "db90c477-69f4-4546-8a16-8ced3aa55b67"
      },
      "execution_count": null,
      "outputs": [
        {
          "output_type": "stream",
          "name": "stdout",
          "text": [
            "Fitting 3 folds for each of 24 candidates, totalling 72 fits\n",
            "Epoch 1/20\n",
            "100/100 [==============================] - 14s 131ms/step - loss: 0.6957 - accuracy: 0.5055 - val_loss: 0.6857 - val_accuracy: 0.5978\n",
            "Epoch 2/20\n",
            "100/100 [==============================] - 12s 115ms/step - loss: 0.6622 - accuracy: 0.6035 - val_loss: 0.6418 - val_accuracy: 0.6335\n",
            "Epoch 3/20\n",
            "100/100 [==============================] - 12s 117ms/step - loss: 0.6357 - accuracy: 0.6400 - val_loss: 0.6310 - val_accuracy: 0.6320\n",
            "Epoch 4/20\n",
            "100/100 [==============================] - 11s 115ms/step - loss: 0.6400 - accuracy: 0.6210 - val_loss: 0.6371 - val_accuracy: 0.6460\n",
            "Epoch 5/20\n",
            "100/100 [==============================] - 11s 113ms/step - loss: 0.6185 - accuracy: 0.6530 - val_loss: 0.6408 - val_accuracy: 0.6475\n",
            "Epoch 6/20\n",
            "100/100 [==============================] - 12s 121ms/step - loss: 0.6053 - accuracy: 0.6695 - val_loss: 0.6111 - val_accuracy: 0.6739\n",
            "Epoch 7/20\n",
            "100/100 [==============================] - 11s 114ms/step - loss: 0.5879 - accuracy: 0.6870 - val_loss: 0.6094 - val_accuracy: 0.6599\n",
            "Epoch 8/20\n",
            "100/100 [==============================] - 12s 124ms/step - loss: 0.5806 - accuracy: 0.6910 - val_loss: 0.5966 - val_accuracy: 0.6801\n",
            "Epoch 9/20\n",
            "100/100 [==============================] - 12s 120ms/step - loss: 0.5648 - accuracy: 0.7080 - val_loss: 0.6058 - val_accuracy: 0.6475\n",
            "Epoch 10/20\n",
            "100/100 [==============================] - 12s 124ms/step - loss: 0.5502 - accuracy: 0.7240 - val_loss: 0.5877 - val_accuracy: 0.6801\n",
            "Epoch 11/20\n",
            "100/100 [==============================] - 12s 118ms/step - loss: 0.5379 - accuracy: 0.7240 - val_loss: 0.5798 - val_accuracy: 0.6863\n",
            "Epoch 12/20\n",
            "100/100 [==============================] - 11s 114ms/step - loss: 0.5360 - accuracy: 0.7310 - val_loss: 0.5796 - val_accuracy: 0.6925\n",
            "Epoch 13/20\n",
            "100/100 [==============================] - 11s 109ms/step - loss: 0.5263 - accuracy: 0.7120 - val_loss: 0.5888 - val_accuracy: 0.6910\n",
            "Epoch 14/20\n",
            "100/100 [==============================] - 12s 117ms/step - loss: 0.5073 - accuracy: 0.7465 - val_loss: 0.5677 - val_accuracy: 0.7050\n",
            "Epoch 15/20\n",
            "100/100 [==============================] - 12s 116ms/step - loss: 0.4977 - accuracy: 0.7540 - val_loss: 0.5636 - val_accuracy: 0.7158\n",
            "Epoch 16/20\n",
            "100/100 [==============================] - 12s 115ms/step - loss: 0.4789 - accuracy: 0.7605 - val_loss: 0.5632 - val_accuracy: 0.7158\n",
            "Epoch 17/20\n",
            "100/100 [==============================] - 12s 117ms/step - loss: 0.4653 - accuracy: 0.7840 - val_loss: 0.5844 - val_accuracy: 0.6863\n",
            "Epoch 18/20\n",
            "100/100 [==============================] - 12s 117ms/step - loss: 0.4721 - accuracy: 0.7660 - val_loss: 0.5693 - val_accuracy: 0.7050\n",
            "Epoch 19/20\n",
            "100/100 [==============================] - 12s 119ms/step - loss: 0.4455 - accuracy: 0.8030 - val_loss: 0.6415 - val_accuracy: 0.6630\n",
            "Epoch 20/20\n",
            "100/100 [==============================] - 12s 117ms/step - loss: 0.4478 - accuracy: 0.7895 - val_loss: 0.5717 - val_accuracy: 0.7252\n",
            "50/50 [==============================] - 2s 31ms/step\n",
            "Epoch 1/20\n",
            "100/100 [==============================] - 13s 120ms/step - loss: 0.6999 - accuracy: 0.4960 - val_loss: 0.6921 - val_accuracy: 0.5078\n",
            "Epoch 2/20\n",
            "100/100 [==============================] - 12s 117ms/step - loss: 0.6889 - accuracy: 0.5570 - val_loss: 0.6889 - val_accuracy: 0.6196\n",
            "Epoch 3/20\n",
            "100/100 [==============================] - 12s 116ms/step - loss: 0.6551 - accuracy: 0.6260 - val_loss: 0.6390 - val_accuracy: 0.6320\n",
            "Epoch 4/20\n",
            "100/100 [==============================] - 12s 117ms/step - loss: 0.6233 - accuracy: 0.6635 - val_loss: 0.6448 - val_accuracy: 0.6382\n",
            "Epoch 5/20\n",
            "100/100 [==============================] - 12s 117ms/step - loss: 0.6094 - accuracy: 0.6670 - val_loss: 0.6250 - val_accuracy: 0.6320\n",
            "Epoch 6/20\n",
            "100/100 [==============================] - 12s 117ms/step - loss: 0.5994 - accuracy: 0.6805 - val_loss: 0.6146 - val_accuracy: 0.6693\n",
            "Epoch 7/20\n",
            "100/100 [==============================] - 12s 116ms/step - loss: 0.5785 - accuracy: 0.6920 - val_loss: 0.6321 - val_accuracy: 0.6739\n",
            "Epoch 8/20\n",
            "100/100 [==============================] - 12s 116ms/step - loss: 0.5845 - accuracy: 0.6905 - val_loss: 0.6244 - val_accuracy: 0.6584\n",
            "Epoch 9/20\n",
            "100/100 [==============================] - 12s 119ms/step - loss: 0.5504 - accuracy: 0.7295 - val_loss: 0.6213 - val_accuracy: 0.6739\n",
            "Epoch 10/20\n",
            "100/100 [==============================] - 12s 116ms/step - loss: 0.5402 - accuracy: 0.7360 - val_loss: 0.5928 - val_accuracy: 0.6599\n",
            "Epoch 11/20\n",
            "100/100 [==============================] - 11s 115ms/step - loss: 0.5255 - accuracy: 0.7395 - val_loss: 0.5851 - val_accuracy: 0.6755\n",
            "Epoch 12/20\n",
            "100/100 [==============================] - 12s 123ms/step - loss: 0.5193 - accuracy: 0.7495 - val_loss: 0.6186 - val_accuracy: 0.6755\n",
            "Epoch 13/20\n",
            "100/100 [==============================] - 12s 125ms/step - loss: 0.5231 - accuracy: 0.7445 - val_loss: 0.6012 - val_accuracy: 0.6661\n",
            "Epoch 14/20\n",
            "100/100 [==============================] - 12s 123ms/step - loss: 0.4939 - accuracy: 0.7630 - val_loss: 0.5740 - val_accuracy: 0.6972\n",
            "Epoch 15/20\n",
            "100/100 [==============================] - 13s 127ms/step - loss: 0.4889 - accuracy: 0.7630 - val_loss: 0.5907 - val_accuracy: 0.6832\n",
            "Epoch 16/20\n",
            "100/100 [==============================] - 12s 116ms/step - loss: 0.5099 - accuracy: 0.7370 - val_loss: 0.5930 - val_accuracy: 0.6724\n",
            "Epoch 17/20\n",
            "100/100 [==============================] - 11s 113ms/step - loss: 0.4691 - accuracy: 0.7710 - val_loss: 0.5716 - val_accuracy: 0.6925\n",
            "Epoch 18/20\n",
            "100/100 [==============================] - 11s 112ms/step - loss: 0.4527 - accuracy: 0.7860 - val_loss: 0.6145 - val_accuracy: 0.6801\n",
            "Epoch 19/20\n",
            "100/100 [==============================] - 11s 111ms/step - loss: 0.4218 - accuracy: 0.8080 - val_loss: 0.6216 - val_accuracy: 0.6879\n",
            "Epoch 20/20\n",
            "100/100 [==============================] - 11s 115ms/step - loss: 0.4225 - accuracy: 0.8020 - val_loss: 0.6124 - val_accuracy: 0.7283\n",
            "50/50 [==============================] - 2s 31ms/step\n",
            "Epoch 1/20\n",
            "100/100 [==============================] - 13s 118ms/step - loss: 0.6969 - accuracy: 0.4995 - val_loss: 0.6916 - val_accuracy: 0.5000\n",
            "Epoch 2/20\n",
            "100/100 [==============================] - 12s 116ms/step - loss: 0.6653 - accuracy: 0.5990 - val_loss: 0.6361 - val_accuracy: 0.6320\n",
            "Epoch 3/20\n",
            "100/100 [==============================] - 11s 115ms/step - loss: 0.6348 - accuracy: 0.6310 - val_loss: 0.6333 - val_accuracy: 0.6460\n",
            "Epoch 4/20\n",
            "100/100 [==============================] - 11s 114ms/step - loss: 0.6321 - accuracy: 0.6455 - val_loss: 0.6390 - val_accuracy: 0.6460\n",
            "Epoch 5/20\n",
            "100/100 [==============================] - 11s 115ms/step - loss: 0.6164 - accuracy: 0.6635 - val_loss: 0.6391 - val_accuracy: 0.6289\n",
            "Epoch 6/20\n",
            "100/100 [==============================] - 11s 115ms/step - loss: 0.6139 - accuracy: 0.6560 - val_loss: 0.6330 - val_accuracy: 0.6273\n",
            "Epoch 7/20\n",
            "100/100 [==============================] - 11s 115ms/step - loss: 0.5964 - accuracy: 0.6775 - val_loss: 0.6411 - val_accuracy: 0.6351\n",
            "Epoch 8/20\n",
            "100/100 [==============================] - 11s 115ms/step - loss: 0.5980 - accuracy: 0.6820 - val_loss: 0.6202 - val_accuracy: 0.6801\n",
            "Epoch 9/20\n",
            "100/100 [==============================] - 12s 121ms/step - loss: 0.5787 - accuracy: 0.6935 - val_loss: 0.6249 - val_accuracy: 0.6522\n",
            "Epoch 10/20\n",
            "100/100 [==============================] - 11s 111ms/step - loss: 0.5800 - accuracy: 0.7040 - val_loss: 0.6218 - val_accuracy: 0.6429\n",
            "Epoch 11/20\n",
            "100/100 [==============================] - 11s 111ms/step - loss: 0.5534 - accuracy: 0.7155 - val_loss: 0.6101 - val_accuracy: 0.6693\n",
            "Epoch 12/20\n",
            "100/100 [==============================] - 11s 111ms/step - loss: 0.5501 - accuracy: 0.7170 - val_loss: 0.6057 - val_accuracy: 0.6739\n",
            "Epoch 13/20\n",
            "100/100 [==============================] - 12s 116ms/step - loss: 0.5291 - accuracy: 0.7425 - val_loss: 0.5879 - val_accuracy: 0.7003\n",
            "Epoch 14/20\n",
            "100/100 [==============================] - 11s 115ms/step - loss: 0.5263 - accuracy: 0.7475 - val_loss: 0.5965 - val_accuracy: 0.7034\n",
            "Epoch 15/20\n",
            " 52/100 [==============>...............] - ETA: 5s - loss: 0.5013 - accuracy: 0.7375"
          ]
        }
      ]
    },
    {
      "cell_type": "code",
      "source": [],
      "metadata": {
        "id": "fBvPOLCakKoQ"
      },
      "execution_count": null,
      "outputs": []
    },
    {
      "cell_type": "code",
      "source": [],
      "metadata": {
        "id": "u8YqA4OkkKqW"
      },
      "execution_count": null,
      "outputs": []
    }
  ]
}